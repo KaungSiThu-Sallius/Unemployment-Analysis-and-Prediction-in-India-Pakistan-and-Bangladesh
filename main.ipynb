{
 "cells": [
  {
   "cell_type": "markdown",
   "metadata": {},
   "source": [
    "# Unemployment Analysis and Prediction in India and Pakistan"
   ]
  },
  {
   "cell_type": "markdown",
   "metadata": {},
   "source": [
    "## Importing Libraries"
   ]
  },
  {
   "cell_type": "code",
   "execution_count": 98,
   "metadata": {},
   "outputs": [],
   "source": [
    "import pandas as pd\n",
    "import numpy as np\n",
    "import matplotlib.pyplot as plt"
   ]
  },
  {
   "cell_type": "markdown",
   "metadata": {},
   "source": [
    "## Data Collection and Preprocessing"
   ]
  },
  {
   "cell_type": "markdown",
   "metadata": {},
   "source": [
    "### Importing Dataset"
   ]
  },
  {
   "cell_type": "code",
   "execution_count": 99,
   "metadata": {},
   "outputs": [],
   "source": [
    "unemploy_sex_age_edu = 'data/raw/unemployment_sex_age_edu.csv'\n",
    "\n",
    "unemploy_sex_age_edu_df = pd.read_csv(unemploy_sex_age_edu)\n"
   ]
  },
  {
   "cell_type": "markdown",
   "metadata": {},
   "source": [
    "### Dropping unnecessary columns"
   ]
  },
  {
   "cell_type": "code",
   "execution_count": 100,
   "metadata": {},
   "outputs": [],
   "source": [
    "unemploy_sex_age_edu_df = unemploy_sex_age_edu_df.drop(['source.label', 'indicator.label', 'obs_status.label', 'note_classif.label', 'note_indicator.label', 'note_source.label'], axis=1)"
   ]
  },
  {
   "cell_type": "markdown",
   "metadata": {},
   "source": [
    "### Renaming Columns"
   ]
  },
  {
   "cell_type": "code",
   "execution_count": 101,
   "metadata": {},
   "outputs": [],
   "source": [
    "unemploy_sex_age_edu_df.rename(columns={\n",
    "    'ref_area.label': 'country',\n",
    "    'sex.label': 'gender',\n",
    "    'classif1.label': 'age_bracket',\n",
    "    'classif2.label': 'education',\n",
    "    'obs_value': 'value'\n",
    "}, inplace=True)"
   ]
  },
  {
   "cell_type": "markdown",
   "metadata": {},
   "source": [
    "### Handling rows and null values"
   ]
  },
  {
   "cell_type": "markdown",
   "metadata": {},
   "source": [
    "#### Unemployment (Gender, Age, Education) Dataset"
   ]
  },
  {
   "cell_type": "code",
   "execution_count": 111,
   "metadata": {},
   "outputs": [
    {
     "data": {
      "text/plain": [
       "array(['Age (Youth, adults): 15+', 'Age (Youth, adults): 15-64',\n",
       "       'Age (Youth, adults): 15-24', 'Age (Youth, adults): 25+',\n",
       "       'Age (Aggregate bands): Total', 'Age (Aggregate bands): 15-24',\n",
       "       'Age (Aggregate bands): 25-54', 'Age (Aggregate bands): 55-64',\n",
       "       'Age (Aggregate bands): 65+', 'Age (10-year bands): Total',\n",
       "       'Age (10-year bands): 15-24', 'Age (10-year bands): 25-34',\n",
       "       'Age (10-year bands): 35-44', 'Age (10-year bands): 45-54',\n",
       "       'Age (10-year bands): 55-64', 'Age (10-year bands): 65+'],\n",
       "      dtype=object)"
      ]
     },
     "execution_count": 111,
     "metadata": {},
     "output_type": "execute_result"
    }
   ],
   "source": [
    "unemploy_sex_age_edu_df['age_bracket'].unique()"
   ]
  },
  {
   "cell_type": "code",
   "execution_count": 118,
   "metadata": {},
   "outputs": [
    {
     "name": "stdout",
     "output_type": "stream",
     "text": [
      "2929406.0 5908824.0\n"
     ]
    }
   ],
   "source": [
    "value_youth = unemploy_sex_age_edu_df[unemploy_sex_age_edu_df['age_bracket'] == 'Age (Aggregate bands): Total']['value'].sum()\n",
    "value_10yr  = unemploy_sex_age_edu_df[unemploy_sex_age_edu_df['age_bracket'] == 'Age (10-year bands): Total']['value'].sum()\n",
    "\n",
    "print(value_10yr, value_youth)\n"
   ]
  },
  {
   "cell_type": "code",
   "execution_count": 103,
   "metadata": {},
   "outputs": [],
   "source": [
    "# unemploy_sex_age_edu_df = unemploy_sex_age_edu_df[unemploy_sex_age_edu_df['gender'] != 'Sex: Total']\n",
    "# unemploy_sex_age_edu_df['gender'] = unemploy_sex_age_edu_df['gender'].str.replace('Sex: ','')\n",
    "# age_values_to_remove = [\n",
    "#     'Age (Youth, adults): 15+', 'Age (Youth, adults): 15-64',\n",
    "#     'Age (Youth, adults): 15-24', 'Age (Youth, adults): 25+',\n",
    "#     'Age (Aggregate bands): Total', 'Age (Aggregate bands): 15-24',\n",
    "#     'Age (Aggregate bands): 25-54', 'Age (Aggregate bands): 55-64',\n",
    "#     'Age (Aggregate bands): 65+', 'Age (10-year bands): Total',\n",
    "# ]\n",
    "# unemploy_sex_age_edu_df = unemploy_sex_age_edu_df[~unemploy_sex_age_edu_df['age_bracket'].isin(age_values_to_remove)]\n",
    "# unemploy_sex_age_edu_df['age_bracket'] = unemploy_sex_age_edu_df['age_bracket'].str.replace('Age (10-year bands): ','')\n",
    "# unemploy_sex_age_edu_df['education'] = unemploy_sex_age_edu_df['education'].str.replace('Education (Aggregate levels): ','')"
   ]
  },
  {
   "cell_type": "markdown",
   "metadata": {},
   "source": [
    "##### Change Data Types"
   ]
  },
  {
   "cell_type": "code",
   "execution_count": 104,
   "metadata": {},
   "outputs": [],
   "source": [
    "# unemploy_sex_age_edu_df['value'] = unemploy_sex_age_edu_df['value'].astype('int')\n",
    "# unemploy_sex_age_edu_df['gender'] = unemploy_sex_age_edu_df['gender'].astype('category')\n",
    "# unemploy_sex_age_edu_df['age_bracket'] = unemploy_sex_age_edu_df['age_bracket'].astype('category')"
   ]
  },
  {
   "cell_type": "code",
   "execution_count": 105,
   "metadata": {},
   "outputs": [
    {
     "data": {
      "text/html": [
       "<div>\n",
       "<style scoped>\n",
       "    .dataframe tbody tr th:only-of-type {\n",
       "        vertical-align: middle;\n",
       "    }\n",
       "\n",
       "    .dataframe tbody tr th {\n",
       "        vertical-align: top;\n",
       "    }\n",
       "\n",
       "    .dataframe thead th {\n",
       "        text-align: right;\n",
       "    }\n",
       "</style>\n",
       "<table border=\"1\" class=\"dataframe\">\n",
       "  <thead>\n",
       "    <tr style=\"text-align: right;\">\n",
       "      <th></th>\n",
       "      <th>country</th>\n",
       "      <th>gender</th>\n",
       "      <th>age_bracket</th>\n",
       "      <th>education</th>\n",
       "      <th>time</th>\n",
       "      <th>value</th>\n",
       "    </tr>\n",
       "  </thead>\n",
       "  <tbody>\n",
       "    <tr>\n",
       "      <th>0</th>\n",
       "      <td>Bangladesh</td>\n",
       "      <td>Sex: Total</td>\n",
       "      <td>Age (Youth, adults): 15+</td>\n",
       "      <td>Education (Aggregate levels): Total</td>\n",
       "      <td>2022Q4</td>\n",
       "      <td>3087.892</td>\n",
       "    </tr>\n",
       "    <tr>\n",
       "      <th>1</th>\n",
       "      <td>Bangladesh</td>\n",
       "      <td>Sex: Total</td>\n",
       "      <td>Age (Youth, adults): 15+</td>\n",
       "      <td>Education (Aggregate levels): Less than basic</td>\n",
       "      <td>2022Q4</td>\n",
       "      <td>293.202</td>\n",
       "    </tr>\n",
       "    <tr>\n",
       "      <th>2</th>\n",
       "      <td>Bangladesh</td>\n",
       "      <td>Sex: Total</td>\n",
       "      <td>Age (Youth, adults): 15+</td>\n",
       "      <td>Education (Aggregate levels): Basic</td>\n",
       "      <td>2022Q4</td>\n",
       "      <td>1028.186</td>\n",
       "    </tr>\n",
       "    <tr>\n",
       "      <th>3</th>\n",
       "      <td>Bangladesh</td>\n",
       "      <td>Sex: Total</td>\n",
       "      <td>Age (Youth, adults): 15+</td>\n",
       "      <td>Education (Aggregate levels): Intermediate</td>\n",
       "      <td>2022Q4</td>\n",
       "      <td>975.344</td>\n",
       "    </tr>\n",
       "    <tr>\n",
       "      <th>4</th>\n",
       "      <td>Bangladesh</td>\n",
       "      <td>Sex: Total</td>\n",
       "      <td>Age (Youth, adults): 15+</td>\n",
       "      <td>Education (Aggregate levels): Advanced</td>\n",
       "      <td>2022Q4</td>\n",
       "      <td>738.040</td>\n",
       "    </tr>\n",
       "  </tbody>\n",
       "</table>\n",
       "</div>"
      ],
      "text/plain": [
       "      country      gender               age_bracket  \\\n",
       "0  Bangladesh  Sex: Total  Age (Youth, adults): 15+   \n",
       "1  Bangladesh  Sex: Total  Age (Youth, adults): 15+   \n",
       "2  Bangladesh  Sex: Total  Age (Youth, adults): 15+   \n",
       "3  Bangladesh  Sex: Total  Age (Youth, adults): 15+   \n",
       "4  Bangladesh  Sex: Total  Age (Youth, adults): 15+   \n",
       "\n",
       "                                       education    time     value  \n",
       "0            Education (Aggregate levels): Total  2022Q4  3087.892  \n",
       "1  Education (Aggregate levels): Less than basic  2022Q4   293.202  \n",
       "2            Education (Aggregate levels): Basic  2022Q4  1028.186  \n",
       "3     Education (Aggregate levels): Intermediate  2022Q4   975.344  \n",
       "4         Education (Aggregate levels): Advanced  2022Q4   738.040  "
      ]
     },
     "execution_count": 105,
     "metadata": {},
     "output_type": "execute_result"
    }
   ],
   "source": [
    "unemploy_sex_age_edu_df.head()"
   ]
  },
  {
   "cell_type": "markdown",
   "metadata": {},
   "source": [
    "##### Null Values Handle"
   ]
  },
  {
   "cell_type": "code",
   "execution_count": 106,
   "metadata": {},
   "outputs": [],
   "source": [
    "unemploy_sex_age_edu_df['value'] = unemploy_sex_age_edu_df.groupby(['gender', 'age_bracket'])['value'].transform(lambda x: x.fillna(x.mean()))\n",
    "unemploy_sex_age_edu_df_value_global_mean = unemploy_sex_age_edu_df['value'].mean()\n",
    "unemploy_sex_age_edu_df['value'] = unemploy_sex_age_edu_df['value'].fillna(unemploy_sex_age_edu_df_value_global_mean)\n",
    "unemploy_sex_age_edu_df['value'] = round(unemploy_sex_age_edu_df['value'])"
   ]
  },
  {
   "cell_type": "code",
   "execution_count": 107,
   "metadata": {},
   "outputs": [
    {
     "data": {
      "text/html": [
       "<div>\n",
       "<style scoped>\n",
       "    .dataframe tbody tr th:only-of-type {\n",
       "        vertical-align: middle;\n",
       "    }\n",
       "\n",
       "    .dataframe tbody tr th {\n",
       "        vertical-align: top;\n",
       "    }\n",
       "\n",
       "    .dataframe thead th {\n",
       "        text-align: right;\n",
       "    }\n",
       "</style>\n",
       "<table border=\"1\" class=\"dataframe\">\n",
       "  <thead>\n",
       "    <tr style=\"text-align: right;\">\n",
       "      <th></th>\n",
       "      <th>country</th>\n",
       "      <th>gender</th>\n",
       "      <th>age_bracket</th>\n",
       "      <th>education</th>\n",
       "      <th>time</th>\n",
       "      <th>value</th>\n",
       "    </tr>\n",
       "  </thead>\n",
       "  <tbody>\n",
       "    <tr>\n",
       "      <th>0</th>\n",
       "      <td>Bangladesh</td>\n",
       "      <td>Sex: Total</td>\n",
       "      <td>Age (Youth, adults): 15+</td>\n",
       "      <td>Education (Aggregate levels): Total</td>\n",
       "      <td>2022Q4</td>\n",
       "      <td>3088.0</td>\n",
       "    </tr>\n",
       "    <tr>\n",
       "      <th>1</th>\n",
       "      <td>Bangladesh</td>\n",
       "      <td>Sex: Total</td>\n",
       "      <td>Age (Youth, adults): 15+</td>\n",
       "      <td>Education (Aggregate levels): Less than basic</td>\n",
       "      <td>2022Q4</td>\n",
       "      <td>293.0</td>\n",
       "    </tr>\n",
       "    <tr>\n",
       "      <th>2</th>\n",
       "      <td>Bangladesh</td>\n",
       "      <td>Sex: Total</td>\n",
       "      <td>Age (Youth, adults): 15+</td>\n",
       "      <td>Education (Aggregate levels): Basic</td>\n",
       "      <td>2022Q4</td>\n",
       "      <td>1028.0</td>\n",
       "    </tr>\n",
       "    <tr>\n",
       "      <th>3</th>\n",
       "      <td>Bangladesh</td>\n",
       "      <td>Sex: Total</td>\n",
       "      <td>Age (Youth, adults): 15+</td>\n",
       "      <td>Education (Aggregate levels): Intermediate</td>\n",
       "      <td>2022Q4</td>\n",
       "      <td>975.0</td>\n",
       "    </tr>\n",
       "    <tr>\n",
       "      <th>4</th>\n",
       "      <td>Bangladesh</td>\n",
       "      <td>Sex: Total</td>\n",
       "      <td>Age (Youth, adults): 15+</td>\n",
       "      <td>Education (Aggregate levels): Advanced</td>\n",
       "      <td>2022Q4</td>\n",
       "      <td>738.0</td>\n",
       "    </tr>\n",
       "    <tr>\n",
       "      <th>...</th>\n",
       "      <td>...</td>\n",
       "      <td>...</td>\n",
       "      <td>...</td>\n",
       "      <td>...</td>\n",
       "      <td>...</td>\n",
       "      <td>...</td>\n",
       "    </tr>\n",
       "    <tr>\n",
       "      <th>18473</th>\n",
       "      <td>Pakistan</td>\n",
       "      <td>Sex: Female</td>\n",
       "      <td>Age (10-year bands): 55-64</td>\n",
       "      <td>Education (Aggregate levels): Intermediate</td>\n",
       "      <td>2018Q1</td>\n",
       "      <td>131.0</td>\n",
       "    </tr>\n",
       "    <tr>\n",
       "      <th>18474</th>\n",
       "      <td>Pakistan</td>\n",
       "      <td>Sex: Female</td>\n",
       "      <td>Age (10-year bands): 65+</td>\n",
       "      <td>Education (Aggregate levels): Total</td>\n",
       "      <td>2018Q1</td>\n",
       "      <td>79.0</td>\n",
       "    </tr>\n",
       "    <tr>\n",
       "      <th>18475</th>\n",
       "      <td>Pakistan</td>\n",
       "      <td>Sex: Female</td>\n",
       "      <td>Age (10-year bands): 65+</td>\n",
       "      <td>Education (Aggregate levels): Less than basic</td>\n",
       "      <td>2018Q1</td>\n",
       "      <td>79.0</td>\n",
       "    </tr>\n",
       "    <tr>\n",
       "      <th>18476</th>\n",
       "      <td>Pakistan</td>\n",
       "      <td>Sex: Female</td>\n",
       "      <td>Age (10-year bands): 65+</td>\n",
       "      <td>Education (Aggregate levels): Basic</td>\n",
       "      <td>2018Q1</td>\n",
       "      <td>79.0</td>\n",
       "    </tr>\n",
       "    <tr>\n",
       "      <th>18477</th>\n",
       "      <td>Pakistan</td>\n",
       "      <td>Sex: Female</td>\n",
       "      <td>Age (10-year bands): 65+</td>\n",
       "      <td>Education (Aggregate levels): Intermediate</td>\n",
       "      <td>2018Q1</td>\n",
       "      <td>79.0</td>\n",
       "    </tr>\n",
       "  </tbody>\n",
       "</table>\n",
       "<p>18478 rows × 6 columns</p>\n",
       "</div>"
      ],
      "text/plain": [
       "          country       gender                 age_bracket  \\\n",
       "0      Bangladesh   Sex: Total    Age (Youth, adults): 15+   \n",
       "1      Bangladesh   Sex: Total    Age (Youth, adults): 15+   \n",
       "2      Bangladesh   Sex: Total    Age (Youth, adults): 15+   \n",
       "3      Bangladesh   Sex: Total    Age (Youth, adults): 15+   \n",
       "4      Bangladesh   Sex: Total    Age (Youth, adults): 15+   \n",
       "...           ...          ...                         ...   \n",
       "18473    Pakistan  Sex: Female  Age (10-year bands): 55-64   \n",
       "18474    Pakistan  Sex: Female    Age (10-year bands): 65+   \n",
       "18475    Pakistan  Sex: Female    Age (10-year bands): 65+   \n",
       "18476    Pakistan  Sex: Female    Age (10-year bands): 65+   \n",
       "18477    Pakistan  Sex: Female    Age (10-year bands): 65+   \n",
       "\n",
       "                                           education    time   value  \n",
       "0                Education (Aggregate levels): Total  2022Q4  3088.0  \n",
       "1      Education (Aggregate levels): Less than basic  2022Q4   293.0  \n",
       "2                Education (Aggregate levels): Basic  2022Q4  1028.0  \n",
       "3         Education (Aggregate levels): Intermediate  2022Q4   975.0  \n",
       "4             Education (Aggregate levels): Advanced  2022Q4   738.0  \n",
       "...                                              ...     ...     ...  \n",
       "18473     Education (Aggregate levels): Intermediate  2018Q1   131.0  \n",
       "18474            Education (Aggregate levels): Total  2018Q1    79.0  \n",
       "18475  Education (Aggregate levels): Less than basic  2018Q1    79.0  \n",
       "18476            Education (Aggregate levels): Basic  2018Q1    79.0  \n",
       "18477     Education (Aggregate levels): Intermediate  2018Q1    79.0  \n",
       "\n",
       "[18478 rows x 6 columns]"
      ]
     },
     "execution_count": 107,
     "metadata": {},
     "output_type": "execute_result"
    }
   ],
   "source": [
    "unemploy_sex_age_edu_df"
   ]
  }
 ],
 "metadata": {
  "kernelspec": {
   "display_name": "dev_env",
   "language": "python",
   "name": "python3"
  },
  "language_info": {
   "codemirror_mode": {
    "name": "ipython",
    "version": 3
   },
   "file_extension": ".py",
   "mimetype": "text/x-python",
   "name": "python",
   "nbconvert_exporter": "python",
   "pygments_lexer": "ipython3",
   "version": "3.9.21"
  }
 },
 "nbformat": 4,
 "nbformat_minor": 2
}
