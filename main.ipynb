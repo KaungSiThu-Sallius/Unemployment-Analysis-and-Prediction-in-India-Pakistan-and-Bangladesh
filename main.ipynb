{
 "cells": [
  {
   "cell_type": "markdown",
   "metadata": {},
   "source": [
    "# Unemployment Analysis and Prediction in India and Pakistan"
   ]
  },
  {
   "cell_type": "markdown",
   "metadata": {},
   "source": [
    "## Importing Libraries"
   ]
  },
  {
   "cell_type": "code",
   "execution_count": 72,
   "metadata": {},
   "outputs": [],
   "source": [
    "import pandas as pd\n",
    "import numpy as np\n",
    "import matplotlib.pyplot as plt"
   ]
  },
  {
   "cell_type": "markdown",
   "metadata": {},
   "source": [
    "## Data Collection and Preprocessing"
   ]
  },
  {
   "cell_type": "markdown",
   "metadata": {},
   "source": [
    "### Importing Dataset"
   ]
  },
  {
   "cell_type": "code",
   "execution_count": 81,
   "metadata": {},
   "outputs": [],
   "source": [
    "unemploy_sex_age_edu = 'data/raw/unemployment_sex_age_edu.csv'\n",
    "unemploy_sex_age_marital = 'data/raw/unemployment_sex_age_martial.csv'\n",
    "unemploy_sex_age_region = 'data/raw/unemployment_sex_age_region.csv'\n",
    "\n",
    "unemploy_sex_age_edu_df = pd.read_csv(unemploy_sex_age_edu)\n",
    "unemploy_sex_age_marital_df = pd.read_csv(unemploy_sex_age_marital)\n",
    "unemploy_sex_age_region_df = pd.read_csv(unemploy_sex_age_region)"
   ]
  },
  {
   "cell_type": "markdown",
   "metadata": {},
   "source": [
    "### Dropping unnecessary columns"
   ]
  },
  {
   "cell_type": "code",
   "execution_count": 82,
   "metadata": {},
   "outputs": [],
   "source": [
    "unemploy_sex_age_edu_df = unemploy_sex_age_edu_df.drop(['source.label', 'indicator.label', 'obs_status.label', 'note_classif.label', 'note_indicator.label', 'note_source.label'], axis=1)\n",
    "unemploy_sex_age_marital_df = unemploy_sex_age_marital_df.drop(['source.label', 'indicator.label', 'obs_status.label', 'note_classif.label', 'note_indicator.label', 'note_source.label'], axis=1)\n",
    "unemploy_sex_age_region_df = unemploy_sex_age_region_df.drop(['source.label', 'indicator.label', 'obs_status.label', 'note_classif.label', 'note_indicator.label', 'note_source.label'], axis=1)"
   ]
  },
  {
   "cell_type": "markdown",
   "metadata": {},
   "source": [
    "### Renaming Columns"
   ]
  },
  {
   "cell_type": "code",
   "execution_count": 84,
   "metadata": {},
   "outputs": [],
   "source": [
    "unemploy_sex_age_edu_df.rename(columns={\n",
    "    'ref_area.label': 'country',\n",
    "    'sex.label': 'gender',\n",
    "    'classif1.label': 'age_bracket',\n",
    "    'classif2.label': 'education',\n",
    "    'obs_value': 'value'\n",
    "}, inplace=True)\n",
    "\n",
    "unemploy_sex_age_marital_df.rename(\n",
    "    columns={\n",
    "        'ref_area.label': 'country',\n",
    "        'sex.label': 'gender',\n",
    "        'classif1.label': 'age_bracket',\n",
    "        'classif2.label': 'marital_status',\n",
    "        'obs_value': 'value'\n",
    "    }, inplace=True\n",
    ")\n",
    "\n",
    "unemploy_sex_age_region_df.rename(\n",
    "    columns={\n",
    "        'ref_area.label': 'country',\n",
    "        'sex.label': 'gender',\n",
    "        'classif1.label': 'age_bracket',\n",
    "        'classif2.label': 'region',\n",
    "        'obs_value': 'value'\n",
    "    }, inplace=True\n",
    ")"
   ]
  },
  {
   "cell_type": "markdown",
   "metadata": {},
   "source": [
    "### Handling rows and null values"
   ]
  },
  {
   "cell_type": "markdown",
   "metadata": {},
   "source": [
    "#### Unemployment (Gender, Age, Education) Dataset"
   ]
  },
  {
   "cell_type": "code",
   "execution_count": 86,
   "metadata": {},
   "outputs": [],
   "source": [
    "unemploy_sex_age_edu_df['gender'] = unemploy_sex_age_edu_df['gender'].str.replace('Sex: ','')\n",
    "unemploy_sex_age_marital_df['gender'] = unemploy_sex_age_marital_df['gender'].str.replace('Sex: ', '')\n",
    "unemploy_sex_age_region_df['gender'] = unemploy_sex_age_region_df['gender'].str.replace('Sex: ', '')\n",
    "\n",
    "unemploy_sex_age_edu_df['age_bracket'] = unemploy_sex_age_edu_df['age_bracket'].str.replace('Age (Aggregate bands): ','')\n",
    "unemploy_sex_age_marital_df['age_bracket'] = unemploy_sex_age_marital_df['age_bracket'].str.replace('Age (Aggregate bands): ','')\n",
    "unemploy_sex_age_region_df['age_bracket'] = unemploy_sex_age_region_df['age_bracket'].str.replace('Age (Aggregate bands): ','')\n",
    "\n",
    "unemploy_sex_age_edu_df['education'] = unemploy_sex_age_edu_df['education'].str.replace('Education (Aggregate levels): ','')\n",
    "\n",
    "unemploy_sex_age_marital_df['marital_status'] = unemploy_sex_age_marital_df['marital_status'].str.replace('Marital status (Detailed): ',  '')\n",
    "\n",
    "unemploy_sex_age_region_df['region'] = unemploy_sex_age_region_df['region'].str.replace('Area type: ',  '')"
   ]
  },
  {
   "cell_type": "code",
   "execution_count": 77,
   "metadata": {},
   "outputs": [],
   "source": [
    "education_to_replace = {\n",
    "    'Less than basic': 'Below High School',\n",
    "    'Basic': 'High School', \n",
    "    'Intermediate': 'Bachelor\\'s',\n",
    "    'Advanced': 'Master\\'s or Higher',\n",
    "    'Level not stated': 'Not Stated'\n",
    "}\n",
    "\n",
    "unemploy_sex_age_edu_df['education'] = unemploy_sex_age_edu_df['education'].replace(education_to_replace)"
   ]
  },
  {
   "cell_type": "markdown",
   "metadata": {},
   "source": [
    "##### Null Values Handle"
   ]
  },
  {
   "cell_type": "code",
   "execution_count": 78,
   "metadata": {},
   "outputs": [],
   "source": [
    "unemploy_sex_age_edu_df['value'] = unemploy_sex_age_edu_df.groupby(['age_bracket', 'education'])['value'].transform(lambda x: x.fillna(x.mean()))\n",
    "unemploy_sex_age_edu_df_value_global_mean = unemploy_sex_age_edu_df['value'].mean()\n",
    "unemploy_sex_age_edu_df['value'] = unemploy_sex_age_edu_df['value'].fillna(unemploy_sex_age_edu_df_value_global_mean)\n",
    "unemploy_sex_age_edu_df['value'] = round(unemploy_sex_age_edu_df['value'])\n",
    "\n",
    "unemploy_sex_age_marital_df['value'] = unemploy_sex_age_marital_df.groupby(['age_bracket', 'marital_status'])['value'].transform(lambda x: x.fillna(x.mean()))\n",
    "unemploy_sex_age_marital_df_value_global_mean = unemploy_sex_age_marital_df['value'].mean()\n",
    "unemploy_sex_age_marital_df['value'] = unemploy_sex_age_marital_df['value'].fillna(unemploy_sex_age_marital_df_value_global_mean)\n",
    "unemploy_sex_age_marital_df['value'] = round(unemploy_sex_age_marital_df['value'])"
   ]
  },
  {
   "cell_type": "markdown",
   "metadata": {},
   "source": [
    "##### Convert Data Types"
   ]
  },
  {
   "cell_type": "code",
   "execution_count": 79,
   "metadata": {},
   "outputs": [],
   "source": [
    "unemploy_sex_age_edu_df['value'] = unemploy_sex_age_edu_df['value'].astype('int')\n",
    "unemploy_sex_age_edu_df['gender'] = unemploy_sex_age_edu_df['gender'].astype('category')\n",
    "unemploy_sex_age_edu_df['age_bracket'] = unemploy_sex_age_edu_df['age_bracket'].astype('category')\n",
    "unemploy_sex_age_edu_df['education'] = unemploy_sex_age_edu_df['education'].astype('category')\n",
    "unemploy_sex_age_edu_df['time'] =  pd.PeriodIndex(unemploy_sex_age_edu_df['time'], freq='Q')\n",
    "\n",
    "unemploy_sex_age_marital_df['value'] = unemploy_sex_age_marital_df['value'].astype('int')\n",
    "unemploy_sex_age_marital_df['gender'] = unemploy_sex_age_marital_df['gender'].astype('category')\n",
    "unemploy_sex_age_marital_df['age_bracket'] = unemploy_sex_age_marital_df['age_bracket'].astype('category')\n",
    "unemploy_sex_age_marital_df['marital_status'] = unemploy_sex_age_marital_df['marital_status'].astype('category')\n",
    "unemploy_sex_age_marital_df['time'] =  pd.PeriodIndex(unemploy_sex_age_marital_df['time'], freq='Q')"
   ]
  }
 ],
 "metadata": {
  "kernelspec": {
   "display_name": "dev_env",
   "language": "python",
   "name": "python3"
  },
  "language_info": {
   "codemirror_mode": {
    "name": "ipython",
    "version": 3
   },
   "file_extension": ".py",
   "mimetype": "text/x-python",
   "name": "python",
   "nbconvert_exporter": "python",
   "pygments_lexer": "ipython3",
   "version": "3.9.21"
  }
 },
 "nbformat": 4,
 "nbformat_minor": 2
}
